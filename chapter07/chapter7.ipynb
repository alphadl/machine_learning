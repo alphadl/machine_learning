{
 "cells": [
  {
   "cell_type": "markdown",
   "metadata": {},
   "source": [
    "# Linear Regression"
   ]
  },
  {
   "cell_type": "markdown",
   "metadata": {},
   "source": [
    "## Model Specification\n",
    "$$ p ( y | \\mathbf { x } , \\boldsymbol { \\theta } ) = \\mathcal { N } ( y | \\mathbf { w } ^ { T } \\mathbf { x } , \\sigma ^ { 2 } )$$\n",
    "\n",
    "non-linear function $\\phi(x) = \\left[ 1 , x , x ^ { 2 } , \\ldots , x ^ { d } \\right]$: basis function expansion\n",
    "$$ p ( y | \\mathbf { x } , \\boldsymbol { \\theta } ) = \\mathcal { N } ( y | \\mathbf { w } ^ { T } \\boldsymbol { \\phi } ( \\mathbf { x } ) , \\sigma ^ { 2 } )$$\n",
    "\n",
    "## Maximum Likelihood Estimation (MLE)\n",
    "$$\\hat { \\boldsymbol { \\theta } } \\triangleq \\arg \\max _ { \\boldsymbol { \\theta } } \\log p ( \\mathcal { D } | \\boldsymbol { \\theta } )$$\n",
    "\n",
    "Assume training examples are independent and identically distributed (iid):\n",
    "$$\\ell ( \\boldsymbol { \\theta } ) \\triangleq \\log p ( \\mathcal { D } | \\boldsymbol { \\theta } ) = \\sum _ { i = 1 } ^ { N } \\log p \\left( y _ { i } | \\mathbf { x } _ { i } , \\boldsymbol { \\theta } \\right)$$\n",
    "\n",
    "Equivalent to Minimize Negative Log Likelihood (NLL):\n",
    "$$\\ell ( \\boldsymbol { \\theta } ) \\triangleq \\log p ( \\mathcal { D } | \\boldsymbol { \\theta } ) = \\sum _ { i = 1 } ^ { N } \\log p \\left( y _ { i } | \\mathbf { x } _ { i } , \\boldsymbol { \\theta } \\right)$$\n",
    "\n",
    "Apply Gaussian:\n",
    "$$\\begin{aligned} \\ell ( \\boldsymbol { \\theta } ) & = \\sum _ { i = 1 } ^ { N } \\log \\left[ \\left( \\frac { 1 } { 2 \\pi \\sigma ^ { 2 } } \\right) ^ { \\frac { 1 } { 2 } } \\exp \\left( - \\frac { 1 } { 2 \\sigma ^ { 2 } } \\left( y _ { i } - \\mathbf { w } ^ { T } \\mathbf { x } _ { i } \\right) ^ { 2 } \\right) \\right] \\\\ & = \\frac { - 1 } { 2 \\sigma ^ { 2 } } R S S ( \\mathbf { w } ) - \\frac { N } { 2 } \\log \\left( 2 \\pi \\sigma ^ { 2 } \\right) \\end{aligned}$$\n",
    "\n",
    "RSS: Residuals sum of squares = Sum of squares error (SSE), Mean of squares Error (MSE): SSE/N\n",
    "\n",
    "$$\\operatorname { RSS } ( \\mathbf { w } ) \\triangleq \\sum _ { i = 1 } ^ { N } \\left( y _ { i } - \\mathbf { w } ^ { T } \\mathbf { x } _ { i } \\right) ^ { 2 }$$\n",
    "\n",
    "Solution is:\n",
    "$$\\hat { \\mathbf { w } } _ { O L S } = \\left( \\mathbf { X } ^ { T } \\mathbf { X } \\right) ^ { - 1 } \\mathbf { X } ^ { T } \\mathbf { y }$$\n",
    "\n",
    "## Ridge Regression, Weight Decay, L2-Regularization, MAP estimation\n",
    "MLE can be overfitting with training data, so we introduce zero-mean prior: \n",
    "$$p ( \\mathbf { w } ) = \\prod _ { j } \\mathcal { N } \\left( w _ { j } | 0 , \\tau ^ { 2 } \\right)$$\n",
    "\n",
    "$1/\\tau^2$: control the strength of the prior\n",
    "$$\\underset { \\mathbf { w } } { \\operatorname { argmax } } \\sum _ { i = 1 } ^ { N } \\log \\mathcal { N } \\left( y _ { i } | w _ { 0 } + \\mathbf { w } ^ { T } \\mathbf { x } _ { i } , \\sigma ^ { 2 } \\right) + \\sum _ { j = 1 } ^ { D } \\log \\mathcal { N } \\left( w _ { j } | 0 , \\tau ^ { 2 } \\right)$$\n",
    "\n",
    "It is equivalent to minimize:\n",
    "$$J ( \\mathbf { w } ) = \\frac { 1 } { N } \\sum _ { i = 1 } ^ { N } \\left( y _ { i } - \\left( w _ { 0 } + \\mathbf { w } ^ { T } \\mathbf { x } _ { i } \\right) \\right) ^ { 2 } + \\lambda \\| \\mathbf { w } \\| _ { 2 } ^ { 2 }$$\n",
    "\n",
    "Solution:\n",
    "$$\\hat { \\mathbf { w } } _ { r i d g e } = \\left( \\lambda \\mathbf { I } _ { D } + \\mathbf { X } ^ { T } \\mathbf { X } \\right) ^ { - 1 } \\mathbf { X } ^ { T } \\mathbf { y }$$\n",
    "\n",
    "![L2 Regularization](../images/7.Regularization.png)"
   ]
  },
  {
   "cell_type": "code",
   "execution_count": null,
   "metadata": {},
   "outputs": [],
   "source": []
  }
 ],
 "metadata": {
  "kernelspec": {
   "display_name": "Python 3",
   "language": "python",
   "name": "python3"
  },
  "language_info": {
   "codemirror_mode": {
    "name": "ipython",
    "version": 3
   },
   "file_extension": ".py",
   "mimetype": "text/x-python",
   "name": "python",
   "nbconvert_exporter": "python",
   "pygments_lexer": "ipython3",
   "version": "3.6.3"
  }
 },
 "nbformat": 4,
 "nbformat_minor": 2
}
